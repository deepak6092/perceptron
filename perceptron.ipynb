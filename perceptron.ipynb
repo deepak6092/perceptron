{
 "cells": [
  {
   "cell_type": "code",
   "execution_count": 1,
   "metadata": {},
   "outputs": [
    {
     "data": {
      "text/plain": [
       "<Figure size 640x480 with 1 Axes>"
      ]
     },
     "metadata": {},
     "output_type": "display_data"
    }
   ],
   "source": [
    "#import packages\n",
    "import sklearn.datasets\n",
    "import numpy as np\n",
    "import pandas as pd\n",
    "import matplotlib.pyplot as plt\n",
    "from sklearn.model_selection import train_test_split\n",
    "\n",
    "#load the breast cancer data\n",
    "breast_cancer = sklearn.datasets.load_breast_cancer()\n",
    "\n",
    "#convert the data to pandas dataframe.\n",
    "data = pd.DataFrame(breast_cancer.data, columns = breast_cancer.feature_names)\n",
    "data[\"class\"] = breast_cancer.target\n",
    "data.head()\n",
    "data.describe()\n",
    "\n",
    "#plotting a graph to see class imbalance\n",
    "data['class'].value_counts().plot(kind = \"barh\")\n",
    "plt.xlabel(\"Count\")\n",
    "plt.ylabel(\"Classes\")\n",
    "plt.show()\n",
    "\n",
    "from sklearn.preprocessing import MinMaxScaler\n",
    "#perform scaling on the data.\n",
    "X = data.drop(\"class\", axis = 1)\n",
    "Y = data[\"class\"]\n",
    "mnscaler = MinMaxScaler()\n",
    "X = mnscaler.fit_transform(X)\n",
    "X = pd.DataFrame(X, columns=data.drop(\"class\",axis = 1).columns)\n",
    "\n",
    "#train test split.\n",
    "X_train, X_test, Y_train, Y_test = train_test_split(X,Y, test_size = 0.1, stratify = Y, random_state = 1)"
   ]
  },
  {
   "cell_type": "code",
   "execution_count": null,
   "metadata": {},
   "outputs": [],
   "source": []
  },
  {
   "cell_type": "code",
   "execution_count": null,
   "metadata": {},
   "outputs": [],
   "source": []
  }
 ],
 "metadata": {
  "kernelspec": {
   "display_name": "Python 3",
   "language": "python",
   "name": "python3"
  },
  "language_info": {
   "codemirror_mode": {
    "name": "ipython",
    "version": 3
   },
   "file_extension": ".py",
   "mimetype": "text/x-python",
   "name": "python",
   "nbconvert_exporter": "python",
   "pygments_lexer": "ipython3",
   "version": "3.7.3"
  }
 },
 "nbformat": 4,
 "nbformat_minor": 2
}
